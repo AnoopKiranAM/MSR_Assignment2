{
 "cells": [
  {
   "cell_type": "code",
   "execution_count": 11,
   "metadata": {},
   "outputs": [
    {
     "data": {
      "text/plain": [
       "'All the 356 PR Links:'"
      ]
     },
     "metadata": {},
     "output_type": "display_data"
    },
    {
     "data": {
      "text/plain": [
       "0               https://github.com/apache/juneau/pull/16\n",
       "1      https://github.com/apache/incubator-druid/pull...\n",
       "2      https://github.com/apache/incubator-gobblin/pu...\n",
       "3              https://github.com/apache/ambari/pull/760\n",
       "4               https://github.com/apache/nutch/pull/234\n",
       "                             ...                        \n",
       "351           https://github.com/facebook/jest/pull/6650\n",
       "352          https://github.com/facebook/react/pull/4447\n",
       "353           https://github.com/facebook/jest/pull/7385\n",
       "354           https://github.com/facebook/jest/pull/2621\n",
       "355          https://github.com/facebook/react/pull/4787\n",
       "Name: Pull Request, Length: 356, dtype: object"
      ]
     },
     "metadata": {},
     "output_type": "display_data"
    }
   ],
   "source": [
    "# importing necessary libraries\n",
    "import requests \n",
    "from bs4 import BeautifulSoup \n",
    "import csv \n",
    "import pandas as pd \n",
    "import re\n",
    "\n",
    "# creating a data frame from the csv file\n",
    "df = pd.read_csv(\"../data/data.csv\") \n",
    "display(\"All the 356 PR Links:\")\n",
    "display(df['Pull Request'])"
   ]
  },
  {
   "cell_type": "code",
   "execution_count": 12,
   "metadata": {},
   "outputs": [],
   "source": [
    "# Filtering only the PR of Apache Company Repository\n",
    "apacheDataSet = df[df['Repo'].str.contains('/apache')]"
   ]
  },
  {
   "cell_type": "code",
   "execution_count": 13,
   "metadata": {},
   "outputs": [],
   "source": [
    "# Filtering only the PR of Mozilla Company Repository\n",
    "mozillaDataSet = df[df['Repo'].str.contains('/mozilla')]"
   ]
  },
  {
   "cell_type": "code",
   "execution_count": 14,
   "metadata": {},
   "outputs": [],
   "source": [
    "# Filtering only the PR of Google Company Repository\n",
    "googleDataSet = df[df['Repo'].str.contains('/google')]"
   ]
  },
  {
   "cell_type": "code",
   "execution_count": 15,
   "metadata": {},
   "outputs": [],
   "source": [
    "# Filtering only the PR of Facebook Company Repository\n",
    "facebookDataSet = df[df['Repo'].str.contains('/facebook')]\n",
    "# display(googleDataSet)\n",
    "# display(googleDataSet.count())"
   ]
  },
  {
   "cell_type": "code",
   "execution_count": 16,
   "metadata": {},
   "outputs": [],
   "source": [
    "# Using only Apache PR's\n",
    "pullRequestList=apacheDataSet['Pull Request'].values.tolist()"
   ]
  },
  {
   "cell_type": "code",
   "execution_count": 17,
   "metadata": {},
   "outputs": [
    {
     "name": "stdout",
     "output_type": "stream",
     "text": [
      "Length of PR's of Apache:\n",
      "88\n"
     ]
    }
   ],
   "source": [
    "print(\"Length of PR's of Apache:\")\n",
    "print(len(pullRequestList))"
   ]
  },
  {
   "cell_type": "code",
   "execution_count": 18,
   "metadata": {},
   "outputs": [],
   "source": [
    "dictw = {'title':[], \n",
    "        'comment':[]\n",
    "       } \n",
    "resultDF = pd.DataFrame(dictw) "
   ]
  },
  {
   "cell_type": "code",
   "execution_count": 19,
   "metadata": {},
   "outputs": [],
   "source": [
    "commitsList=[]\n",
    "filesChangedList = []\n",
    "green = []\n",
    "red = []\n",
    "\n",
    "for i in range(len(pullRequestList)):\n",
    "    URL = pullRequestList[i]\n",
    "    r = requests.get(URL)\n",
    "    soup = BeautifulSoup(r.content, 'html.parser') \n",
    "    mainTitle = soup.find('h1', attrs = {'class':'gh-header-title mb-2 lh-condensed f1 mr-0 flex-auto break-word'})\n",
    "    comment = soup.find('div',attrs={'class':'edit-comment-hide'})\n",
    "    \n",
    "    commits = soup.find('span', attrs = {'class':'js-updateable-pull-request-commits-count Counter'})\n",
    "    files_changed = soup.find('span', attrs = {'id':'files_tab_counter'})\n",
    "    \n",
    "    if commits:\n",
    "        commitsList.append(commits.get_text())\n",
    "    else:\n",
    "        commitsList.append(0)\n",
    "        \n",
    "    if files_changed:\n",
    "        filesChangedList.append(files_changed.get_text())\n",
    "    else:\n",
    "        filesChangedList.append(0)\n",
    "    \n",
    "    code_churn_data = soup.find('span', attrs = {'id':'diffstat'})\n",
    "#     print(code_churn_data)\n",
    "    if code_churn_data:\n",
    "        for i in code_churn_data.findAll('span', attrs = {'class':'text-green'}):\n",
    "#             print(re.sub(r'\\D', '', i.text))\n",
    "            green.append(re.sub(r'\\D', '', i.text))\n",
    "        for j in code_churn_data.findAll('span', attrs = {'class':'text-red'}):\n",
    "            red.append(re.sub(r'\\D', '', j.text))\n",
    "#             print(re.sub(r'\\D', '', j.text))\n",
    "    else:\n",
    "        green.append(0)\n",
    "        red.append(0)\n",
    "\n",
    "        \n",
    "    heading=\"\"\n",
    "    if mainTitle:\n",
    "        for row in mainTitle.findAll('span', attrs = {'class':'js-issue-title'}):\n",
    "            heading=row.get_text()\n",
    "            for roww in comment.findAll('td', attrs = {'class':'d-block comment-body markdown-body js-comment-body'}):\n",
    "                finalComment=\"\"\n",
    "                for rowww in roww.find_all(['p', 'li']):\n",
    "                    finalComment=finalComment+rowww.get_text()+'.'\n",
    "            resultDF.loc[len(resultDF.index)] = [heading, finalComment] \n"
   ]
  },
  {
   "cell_type": "code",
   "execution_count": 20,
   "metadata": {},
   "outputs": [],
   "source": [
    "# print(commitsList)\n",
    "# print(len(commitsList))\n",
    "resultDF['num_commits']  = list(map(int, commitsList)) \n",
    "# df_marks['num_commits'] = commitsList"
   ]
  },
  {
   "cell_type": "code",
   "execution_count": 21,
   "metadata": {},
   "outputs": [],
   "source": [
    "# print(filesChangedList)\n",
    "# print(len(filesChangedList))\n",
    "# df_marks['files_changed'] = filesChangedList\n",
    "resultDF['files_changed']  = list(map(int, filesChangedList)) "
   ]
  },
  {
   "cell_type": "code",
   "execution_count": 22,
   "metadata": {},
   "outputs": [],
   "source": [
    "greenlist = list(map(int, green)) \n",
    "redlist = list(map(int, red)) \n",
    "# print(redlist)\n",
    "# print(greenlist)"
   ]
  },
  {
   "cell_type": "code",
   "execution_count": 23,
   "metadata": {},
   "outputs": [],
   "source": [
    "res_list = [] \n",
    "for i in range(0, len(green)): \n",
    "    res_list.append(greenlist[i] + redlist[i]) "
   ]
  },
  {
   "cell_type": "code",
   "execution_count": 24,
   "metadata": {},
   "outputs": [],
   "source": [
    "resultDF['code_churn'] = res_list"
   ]
  },
  {
   "cell_type": "code",
   "execution_count": 25,
   "metadata": {},
   "outputs": [
    {
     "data": {
      "text/html": [
       "<div>\n",
       "<style scoped>\n",
       "    .dataframe tbody tr th:only-of-type {\n",
       "        vertical-align: middle;\n",
       "    }\n",
       "\n",
       "    .dataframe tbody tr th {\n",
       "        vertical-align: top;\n",
       "    }\n",
       "\n",
       "    .dataframe thead th {\n",
       "        text-align: right;\n",
       "    }\n",
       "</style>\n",
       "<table border=\"1\" class=\"dataframe\">\n",
       "  <thead>\n",
       "    <tr style=\"text-align: right;\">\n",
       "      <th></th>\n",
       "      <th>title</th>\n",
       "      <th>comment</th>\n",
       "      <th>num_commits</th>\n",
       "      <th>files_changed</th>\n",
       "      <th>code_churn</th>\n",
       "    </tr>\n",
       "  </thead>\n",
       "  <tbody>\n",
       "    <tr>\n",
       "      <th>0</th>\n",
       "      <td>\\n        Added LN ST PE vars to svl-core\\n</td>\n",
       "      <td>This is related to last mail thread..$LN = for...</td>\n",
       "      <td>4</td>\n",
       "      <td>7</td>\n",
       "      <td>387</td>\n",
       "    </tr>\n",
       "    <tr>\n",
       "      <th>1</th>\n",
       "      <td>\\n        Add SQL REGEXP_EXTRACT function; add...</td>\n",
       "      <td>Syntax is the same as Hive/Presto's REGEXP_EXT...</td>\n",
       "      <td>2</td>\n",
       "      <td>8</td>\n",
       "      <td>252</td>\n",
       "    </tr>\n",
       "    <tr>\n",
       "      <th>2</th>\n",
       "      <td>\\n        Initial pull request for the Gobblin...</td>\n",
       "      <td>This pull request contains the changes for Mut...</td>\n",
       "      <td>19</td>\n",
       "      <td>18</td>\n",
       "      <td>1384</td>\n",
       "    </tr>\n",
       "    <tr>\n",
       "      <th>3</th>\n",
       "      <td>\\n        [AMBARI-23334] Using the proper regu...</td>\n",
       "      <td>The regular expression we use to validate --ss...</td>\n",
       "      <td>3</td>\n",
       "      <td>2</td>\n",
       "      <td>28</td>\n",
       "    </tr>\n",
       "    <tr>\n",
       "      <th>4</th>\n",
       "      <td>\\n        NUTCH-2394 Fix of bugs detected by s...</td>\n",
       "      <td>String.trim() without assignment.avoid strings...</td>\n",
       "      <td>2</td>\n",
       "      <td>0</td>\n",
       "      <td>0</td>\n",
       "    </tr>\n",
       "    <tr>\n",
       "      <th>...</th>\n",
       "      <td>...</td>\n",
       "      <td>...</td>\n",
       "      <td>...</td>\n",
       "      <td>...</td>\n",
       "      <td>...</td>\n",
       "    </tr>\n",
       "    <tr>\n",
       "      <th>83</th>\n",
       "      <td>\\n        CB-14198: (all) Fix bug when running...</td>\n",
       "      <td>This is an improved version of #11 PR created ...</td>\n",
       "      <td>9</td>\n",
       "      <td>2</td>\n",
       "      <td>21</td>\n",
       "    </tr>\n",
       "    <tr>\n",
       "      <th>84</th>\n",
       "      <td>\\n        Cpp client: add PatternMultiTopicsCo...</td>\n",
       "      <td>In PR #1279 and #1298 we added regex based sub...</td>\n",
       "      <td>3</td>\n",
       "      <td>21</td>\n",
       "      <td>1064</td>\n",
       "    </tr>\n",
       "    <tr>\n",
       "      <th>85</th>\n",
       "      <td>\\n        SLING-7741 - org.apache.sling.xss.im...</td>\n",
       "      <td>implemented the URI grammar from RFC3986 as a ...</td>\n",
       "      <td>3</td>\n",
       "      <td>0</td>\n",
       "      <td>0</td>\n",
       "    </tr>\n",
       "    <tr>\n",
       "      <th>86</th>\n",
       "      <td>\\n        [sql lab] extract Hive error message...</td>\n",
       "      <td>So pyhive returns an exception object with a s...</td>\n",
       "      <td>2</td>\n",
       "      <td>2</td>\n",
       "      <td>27</td>\n",
       "    </tr>\n",
       "    <tr>\n",
       "      <th>87</th>\n",
       "      <td>\\n        Replace jakarta-regexp with java.uti...</td>\n",
       "      <td>Hi,.I'd like to suggest the removal of the dep...</td>\n",
       "      <td>8</td>\n",
       "      <td>45</td>\n",
       "      <td>1142</td>\n",
       "    </tr>\n",
       "  </tbody>\n",
       "</table>\n",
       "<p>88 rows × 5 columns</p>\n",
       "</div>"
      ],
      "text/plain": [
       "                                                title  \\\n",
       "0   \\n        Added LN ST PE vars to svl-core\\n         \n",
       "1   \\n        Add SQL REGEXP_EXTRACT function; add...   \n",
       "2   \\n        Initial pull request for the Gobblin...   \n",
       "3   \\n        [AMBARI-23334] Using the proper regu...   \n",
       "4   \\n        NUTCH-2394 Fix of bugs detected by s...   \n",
       "..                                                ...   \n",
       "83  \\n        CB-14198: (all) Fix bug when running...   \n",
       "84  \\n        Cpp client: add PatternMultiTopicsCo...   \n",
       "85  \\n        SLING-7741 - org.apache.sling.xss.im...   \n",
       "86  \\n        [sql lab] extract Hive error message...   \n",
       "87  \\n        Replace jakarta-regexp with java.uti...   \n",
       "\n",
       "                                              comment  num_commits  \\\n",
       "0   This is related to last mail thread..$LN = for...            4   \n",
       "1   Syntax is the same as Hive/Presto's REGEXP_EXT...            2   \n",
       "2   This pull request contains the changes for Mut...           19   \n",
       "3   The regular expression we use to validate --ss...            3   \n",
       "4   String.trim() without assignment.avoid strings...            2   \n",
       "..                                                ...          ...   \n",
       "83  This is an improved version of #11 PR created ...            9   \n",
       "84  In PR #1279 and #1298 we added regex based sub...            3   \n",
       "85  implemented the URI grammar from RFC3986 as a ...            3   \n",
       "86  So pyhive returns an exception object with a s...            2   \n",
       "87  Hi,.I'd like to suggest the removal of the dep...            8   \n",
       "\n",
       "    files_changed  code_churn  \n",
       "0               7         387  \n",
       "1               8         252  \n",
       "2              18        1384  \n",
       "3               2          28  \n",
       "4               0           0  \n",
       "..            ...         ...  \n",
       "83              2          21  \n",
       "84             21        1064  \n",
       "85              0           0  \n",
       "86              2          27  \n",
       "87             45        1142  \n",
       "\n",
       "[88 rows x 5 columns]"
      ]
     },
     "metadata": {},
     "output_type": "display_data"
    }
   ],
   "source": [
    "display(resultDF)"
   ]
  },
  {
   "cell_type": "code",
   "execution_count": 26,
   "metadata": {},
   "outputs": [],
   "source": [
    "comment_list=resultDF['comment'].values.tolist()"
   ]
  },
  {
   "cell_type": "code",
   "execution_count": 27,
   "metadata": {},
   "outputs": [],
   "source": [
    "title_list=resultDF['title'].values.tolist()"
   ]
  },
  {
   "cell_type": "code",
   "execution_count": 103,
   "metadata": {},
   "outputs": [],
   "source": [
    "rootCause=[]\n",
    "# regExString=[\"regex\",\"regular expression\"]\n",
    "# apiURLString=[\"api\",\"url\"]\n",
    "for index in range(len(comment_list)):\n",
    "    if \"regex\" in comment_list[index] or \"regex\" in title_list[index]: \n",
    "        rootCause.append(\"regEx\")\n",
    "    elif \"regular expression\" in comment_list[index] or \"regex\" in title_list[index]:\n",
    "        rootCause.append(\"regEx\")\n",
    "    elif \"URL\" in comment_list[index] or \"regex\" in title_list[index]:\n",
    "        rootCause.append(\"API\")\n",
    "    elif \"API\" in comment_list[index] or \"regex\" in title_list[index]:\n",
    "        rootCause.append(\"API\")\n",
    "    else:\n",
    "        rootCause.append(\"Other\")"
   ]
  },
  {
   "cell_type": "code",
   "execution_count": 104,
   "metadata": {},
   "outputs": [],
   "source": [
    "resultDF['Root Cause'] = rootCause "
   ]
  },
  {
   "cell_type": "code",
   "execution_count": 105,
   "metadata": {},
   "outputs": [
    {
     "data": {
      "text/html": [
       "<div>\n",
       "<style scoped>\n",
       "    .dataframe tbody tr th:only-of-type {\n",
       "        vertical-align: middle;\n",
       "    }\n",
       "\n",
       "    .dataframe tbody tr th {\n",
       "        vertical-align: top;\n",
       "    }\n",
       "\n",
       "    .dataframe thead th {\n",
       "        text-align: right;\n",
       "    }\n",
       "</style>\n",
       "<table border=\"1\" class=\"dataframe\">\n",
       "  <thead>\n",
       "    <tr style=\"text-align: right;\">\n",
       "      <th></th>\n",
       "      <th>title</th>\n",
       "      <th>comment</th>\n",
       "      <th>num_commits</th>\n",
       "      <th>files_changed</th>\n",
       "      <th>code_churn</th>\n",
       "      <th>Root Cause</th>\n",
       "    </tr>\n",
       "  </thead>\n",
       "  <tbody>\n",
       "    <tr>\n",
       "      <th>0</th>\n",
       "      <td>\\n        Added LN ST PE vars to svl-core\\n</td>\n",
       "      <td>This is related to last mail thread..$LN = for...</td>\n",
       "      <td>4</td>\n",
       "      <td>7</td>\n",
       "      <td>387</td>\n",
       "      <td>regEx</td>\n",
       "    </tr>\n",
       "    <tr>\n",
       "      <th>1</th>\n",
       "      <td>\\n        Add SQL REGEXP_EXTRACT function; add...</td>\n",
       "      <td>Syntax is the same as Hive/Presto's REGEXP_EXT...</td>\n",
       "      <td>2</td>\n",
       "      <td>8</td>\n",
       "      <td>252</td>\n",
       "      <td>regEx</td>\n",
       "    </tr>\n",
       "    <tr>\n",
       "      <th>2</th>\n",
       "      <td>\\n        Initial pull request for the Gobblin...</td>\n",
       "      <td>This pull request contains the changes for Mut...</td>\n",
       "      <td>19</td>\n",
       "      <td>18</td>\n",
       "      <td>1384</td>\n",
       "      <td>regEx</td>\n",
       "    </tr>\n",
       "    <tr>\n",
       "      <th>3</th>\n",
       "      <td>\\n        [AMBARI-23334] Using the proper regu...</td>\n",
       "      <td>The regular expression we use to validate --ss...</td>\n",
       "      <td>3</td>\n",
       "      <td>2</td>\n",
       "      <td>28</td>\n",
       "      <td>regEx</td>\n",
       "    </tr>\n",
       "    <tr>\n",
       "      <th>4</th>\n",
       "      <td>\\n        NUTCH-2394 Fix of bugs detected by s...</td>\n",
       "      <td>String.trim() without assignment.avoid strings...</td>\n",
       "      <td>2</td>\n",
       "      <td>7</td>\n",
       "      <td>28</td>\n",
       "      <td>regEx</td>\n",
       "    </tr>\n",
       "    <tr>\n",
       "      <th>...</th>\n",
       "      <td>...</td>\n",
       "      <td>...</td>\n",
       "      <td>...</td>\n",
       "      <td>...</td>\n",
       "      <td>...</td>\n",
       "      <td>...</td>\n",
       "    </tr>\n",
       "    <tr>\n",
       "      <th>83</th>\n",
       "      <td>\\n        CB-14198: (all) Fix bug when running...</td>\n",
       "      <td>This is an improved version of #11 PR created ...</td>\n",
       "      <td>9</td>\n",
       "      <td>2</td>\n",
       "      <td>21</td>\n",
       "      <td>regEx</td>\n",
       "    </tr>\n",
       "    <tr>\n",
       "      <th>84</th>\n",
       "      <td>\\n        Cpp client: add PatternMultiTopicsCo...</td>\n",
       "      <td>In PR #1279 and #1298 we added regex based sub...</td>\n",
       "      <td>3</td>\n",
       "      <td>21</td>\n",
       "      <td>1064</td>\n",
       "      <td>regEx</td>\n",
       "    </tr>\n",
       "    <tr>\n",
       "      <th>85</th>\n",
       "      <td>\\n        SLING-7741 - org.apache.sling.xss.im...</td>\n",
       "      <td>implemented the URI grammar from RFC3986 as a ...</td>\n",
       "      <td>3</td>\n",
       "      <td>0</td>\n",
       "      <td>0</td>\n",
       "      <td>regEx</td>\n",
       "    </tr>\n",
       "    <tr>\n",
       "      <th>86</th>\n",
       "      <td>\\n        [sql lab] extract Hive error message...</td>\n",
       "      <td>So pyhive returns an exception object with a s...</td>\n",
       "      <td>2</td>\n",
       "      <td>2</td>\n",
       "      <td>27</td>\n",
       "      <td>regEx</td>\n",
       "    </tr>\n",
       "    <tr>\n",
       "      <th>87</th>\n",
       "      <td>\\n        Replace jakarta-regexp with java.uti...</td>\n",
       "      <td>Hi,.I'd like to suggest the removal of the dep...</td>\n",
       "      <td>8</td>\n",
       "      <td>45</td>\n",
       "      <td>1142</td>\n",
       "      <td>regEx</td>\n",
       "    </tr>\n",
       "  </tbody>\n",
       "</table>\n",
       "<p>88 rows × 6 columns</p>\n",
       "</div>"
      ],
      "text/plain": [
       "                                                title  \\\n",
       "0   \\n        Added LN ST PE vars to svl-core\\n         \n",
       "1   \\n        Add SQL REGEXP_EXTRACT function; add...   \n",
       "2   \\n        Initial pull request for the Gobblin...   \n",
       "3   \\n        [AMBARI-23334] Using the proper regu...   \n",
       "4   \\n        NUTCH-2394 Fix of bugs detected by s...   \n",
       "..                                                ...   \n",
       "83  \\n        CB-14198: (all) Fix bug when running...   \n",
       "84  \\n        Cpp client: add PatternMultiTopicsCo...   \n",
       "85  \\n        SLING-7741 - org.apache.sling.xss.im...   \n",
       "86  \\n        [sql lab] extract Hive error message...   \n",
       "87  \\n        Replace jakarta-regexp with java.uti...   \n",
       "\n",
       "                                              comment  num_commits  \\\n",
       "0   This is related to last mail thread..$LN = for...            4   \n",
       "1   Syntax is the same as Hive/Presto's REGEXP_EXT...            2   \n",
       "2   This pull request contains the changes for Mut...           19   \n",
       "3   The regular expression we use to validate --ss...            3   \n",
       "4   String.trim() without assignment.avoid strings...            2   \n",
       "..                                                ...          ...   \n",
       "83  This is an improved version of #11 PR created ...            9   \n",
       "84  In PR #1279 and #1298 we added regex based sub...            3   \n",
       "85  implemented the URI grammar from RFC3986 as a ...            3   \n",
       "86  So pyhive returns an exception object with a s...            2   \n",
       "87  Hi,.I'd like to suggest the removal of the dep...            8   \n",
       "\n",
       "    files_changed  code_churn Root Cause  \n",
       "0               7         387      regEx  \n",
       "1               8         252      regEx  \n",
       "2              18        1384      regEx  \n",
       "3               2          28      regEx  \n",
       "4               7          28      regEx  \n",
       "..            ...         ...        ...  \n",
       "83              2          21      regEx  \n",
       "84             21        1064      regEx  \n",
       "85              0           0      regEx  \n",
       "86              2          27      regEx  \n",
       "87             45        1142      regEx  \n",
       "\n",
       "[88 rows x 6 columns]"
      ]
     },
     "execution_count": 105,
     "metadata": {},
     "output_type": "execute_result"
    }
   ],
   "source": [
    "resultDF"
   ]
  },
  {
   "cell_type": "code",
   "execution_count": 106,
   "metadata": {},
   "outputs": [],
   "source": [
    "manifestation=[]\n",
    "newFeatureStringList=[\"add\",\"ADD\"]\n",
    "incorrectBehaviourStringList=[\"proper\",\"modified\",\"fixed\",\"fix\",\"change\",\"changing\",\"changes\",\"expanding regex\",\"expand\"]\n",
    "compileErrorStringList=[\"detected\",\"reworked\",\"confusing\"]\n",
    "badsmellrStringList=[\"refactor\",\"update\",\"updating\",\"parse\",\"Replace\",\"better\"]\n",
    "incorrectComputationStringList=[\"assertion\"]\n",
    "\n",
    "for index in range(len(comment_list)):\n",
    "    if any(x in comment_list[index] for x in newFeatureStringList) or any(x in title_list[index] for x in newFeatureStringList):\n",
    "        manifestation.append(\"new feature\")\n",
    "    elif any(x in comment_list[index] for x in incorrectComputationStringList) or any(x in title_list[index] for x in incorrectComputationStringList):\n",
    "         manifestation.append(\"incorrect computation\")\n",
    "    elif any(x in comment_list[index] for x in badsmellrStringList) or any(x in title_list[index] for x in badsmellrStringList):\n",
    "         manifestation.append(\"bad smell\")\n",
    "    elif any(x in comment_list[index] for x in compileErrorStringList) or any(x in title_list[index] for x in compileErrorStringList):\n",
    "        manifestation.append(\"compile error\")\n",
    "    elif any(x in comment_list[index] for x in incorrectBehaviourStringList) or any(x in title_list[index] for x in incorrectBehaviourStringList):\n",
    "         manifestation.append(\"incorrect behavior\")\n",
    "    else:\n",
    "        manifestation.append(\"other failure\")"
   ]
  },
  {
   "cell_type": "code",
   "execution_count": 107,
   "metadata": {},
   "outputs": [],
   "source": [
    "resultDF['Manifestation'] = manifestation "
   ]
  },
  {
   "cell_type": "code",
   "execution_count": 109,
   "metadata": {},
   "outputs": [],
   "source": [
    "category=[]\n",
    "acceptingInvalidStringList=[\"Bugfix for regex\",\"Fix integration test script\",\"SSP mail form\"]\n",
    "incorrectExtractionStringList=[\"StringExpander regex\",\"fix whitelist\",\"Fix greedy regex\"]\n",
    "dataProcessingStringList=[\"Add helper script\",\"Add sec\",\"Enabling extraction\",\"Add custom context\"]\n",
    "badSmellStringList=[\"Refactor\",\"Rename\",\"Optimize\"]\n",
    "regexConfigStringList=[\"configurable\",\"config\"]\n",
    "regexLikeImplStringList=[\"REGEXP_EXTRACT\",\"Regex replacement\",\"regex filter\"]\n",
    "rejectingValidStringList=[\"better regex\",\"RegEx pattern should be updated\",\"replaces the regex\"]\n",
    "codeSmelldStringList=[\"regex pattern\",\"replace by regular\",\"Remove\"]\n",
    "\n",
    "\n",
    "for index in range(len(comment_list)):\n",
    "    if any(x in comment_list[index] for x in acceptingInvalidStringList) or any(x in title_list[index] for x in acceptingInvalidStringList):\n",
    "        category.append(\"accepting invalid strings(T2)\")\n",
    "    elif any(x in comment_list[index] for x in incorrectExtractionStringList) or any(x in title_list[index] for x in incorrectExtractionStringList):\n",
    "        category.append(\"incorrect extraction\")\n",
    "    elif any(x in comment_list[index] for x in dataProcessingStringList) or any(x in title_list[index] for x in dataProcessingStringList):\n",
    "        category.append(\"data processing\")\n",
    "    elif any(x in comment_list[index] for x in badSmellStringList) or any(x in title_list[index] for x in badSmellStringList):\n",
    "        category.append(\"bad smells\")\n",
    "    elif any(x in comment_list[index] for x in regexConfigStringList) or any(x in title_list[index] for x in regexConfigStringList):\n",
    "        category.append(\"regex configuration entry\")\n",
    "    elif any(x in comment_list[index] for x in regexLikeImplStringList) or any(x in title_list[index] for x in regexLikeImplStringList):\n",
    "        category.append(\"regex like implementation\")\n",
    "    elif any(x in comment_list[index] for x in rejectingValidStringList) or any(x in title_list[index] for x in rejectingValidStringList):\n",
    "        category.append(\"rejecting valid strings (T1)\")\n",
    "    elif any(x in comment_list[index] for x in codeSmelldStringList) or any(x in title_list[index] for x in codeSmelldStringList):\n",
    "        category.append(\"code smells\")\n",
    "    else:\n",
    "        category.append(\" \")"
   ]
  },
  {
   "cell_type": "code",
   "execution_count": 110,
   "metadata": {},
   "outputs": [],
   "source": [
    "resultDF['Category'] = category "
   ]
  },
  {
   "cell_type": "code",
   "execution_count": 111,
   "metadata": {},
   "outputs": [],
   "source": [
    "#Storing the executed data in a result.csv file.\n",
    "resultDF.to_csv(r'../data/new_result.csv', sep=',', mode='a')"
   ]
  },
  {
   "cell_type": "code",
   "execution_count": 144,
   "metadata": {},
   "outputs": [
    {
     "name": "stdout",
     "output_type": "stream",
     "text": [
      "Statistics=13265.00, p=0.01\n",
      "No significant difference between two samples\n"
     ]
    }
   ],
   "source": [
    "# code for Mann-Whitney U test to test the number of commits in both original and obtained data set\n",
    "from scipy.stats import mannwhitneyu \n",
    "batch_1 =resultDF['num_commits']\n",
    "batch_2 =df['num_commits']\n",
    "  \n",
    "# perform mann whitney test \n",
    "stat, p_value = mannwhitneyu(batch_1, batch_2) \n",
    "print('Statistics=%.2f, p=%.2f' % (stat, p_value)) \n",
    "# Level of significance \n",
    "alpha = 0.001\n",
    "# conclusion \n",
    "if p_value < alpha: \n",
    "    print('Significant difference between two samples') \n",
    "else: \n",
    "    print('No significant difference between two samples')"
   ]
  },
  {
   "cell_type": "code",
   "execution_count": 145,
   "metadata": {},
   "outputs": [
    {
     "name": "stdout",
     "output_type": "stream",
     "text": [
      "Statistics=8699.00, p=0.00\n",
      "Significant difference between two samples\n"
     ]
    }
   ],
   "source": [
    "# code for Mann-Whitney U test to test the lines of code in both original and obtained data set\n",
    "from scipy.stats import mannwhitneyu \n",
    "# Take batch 1 and batch 2 data as per above example \n",
    "batch_1 =resultDF['code_churn']\n",
    "batch_2 =df['code_churn']\n",
    "  \n",
    "# perform mann whitney test \n",
    "stat, p_value = mannwhitneyu(batch_1, batch_2) \n",
    "print('Statistics=%.2f, p=%.2f' % (stat, p_value)) \n",
    "# Level of significance \n",
    "alpha = 0.001\n",
    "# conclusion \n",
    "if p_value < alpha: \n",
    "    print('Significant difference between two samples') \n",
    "else: \n",
    "    print('No significant difference between two samples')"
   ]
  },
  {
   "cell_type": "code",
   "execution_count": 146,
   "metadata": {},
   "outputs": [
    {
     "name": "stdout",
     "output_type": "stream",
     "text": [
      "Statistics=8488.50, p=0.00\n",
      "Significant difference between two samples\n"
     ]
    }
   ],
   "source": [
    "# code for Mann-Whitney U test to test the files changed in both original and obtained data set\n",
    "from scipy.stats import mannwhitneyu \n",
    "# Take batch 1 and batch 2 data as per above example \n",
    "batch_1 =resultDF['files_changed']\n",
    "batch_2 =df['files_changed']\n",
    "  \n",
    "# perform mann whitney test \n",
    "stat, p_value = mannwhitneyu(batch_1, batch_2) \n",
    "print('Statistics=%.2f, p=%.2f' % (stat, p_value)) \n",
    "# Level of significance \n",
    "alpha = 0.001\n",
    "# conclusion \n",
    "if p_value < alpha: \n",
    "    print('Significant difference between two samples') \n",
    "else: \n",
    "    print('No significant difference between two samples')"
   ]
  },
  {
   "cell_type": "code",
   "execution_count": 147,
   "metadata": {},
   "outputs": [],
   "source": [
    "import matplotlib.pyplot as plt\n",
    "\n",
    "def generate_distribution_histogram(dataframe, \n",
    "                                    column_name, \n",
    "                                    title, x_axis_label, y_axis_label,\n",
    "                                    label_name,\n",
    "                                    number_bins = 15):\n",
    "    plt.hist(dataframe[column_name], bins = number_bins, label = label_name)\n",
    "    plt.title(title)\n",
    "    plt.xlabel(x_axis_label)\n",
    "    plt.ylabel(y_axis_label)\n",
    "    plt.legend(loc='upper right')\n",
    "\n"
   ]
  },
  {
   "cell_type": "code",
   "execution_count": 152,
   "metadata": {},
   "outputs": [
    {
     "data": {
      "image/png": "[encoded data removed]",
      "text/plain": [
       "<Figure size 432x288 with 1 Axes>"
      ]
     },
     "metadata": {
      "needs_background": "light"
     },
     "output_type": "display_data"
    }
   ],
   "source": [
    "df_result =resultDF\n",
    "df_original =df\n",
    "generate_distribution_histogram(df_result, \n",
    "                                'num_commits',\n",
    "                                title = 'Number of commits in executed(calculated) data set',\n",
    "                                x_axis_label = 'Number of Commits',\n",
    "                                y_axis_label = 'Frequency',\n",
    "                                label_name = 'num of commits in executed data set')\n"
   ]
  },
  {
   "cell_type": "code",
   "execution_count": 149,
   "metadata": {},
   "outputs": [
    {
     "data": {
      "image/png": "[encoded data removed]",
      "text/plain": [
       "<Figure size 432x288 with 1 Axes>"
      ]
     },
     "metadata": {
      "needs_background": "light"
     },
     "output_type": "display_data"
    }
   ],
   "source": [
    "generate_distribution_histogram(df_original, \n",
    "                                'num_commits',\n",
    "                                title = 'Number of commits in original data set',\n",
    "                                x_axis_label = 'Number of Commits',\n",
    "                                y_axis_label = 'Frequency',\n",
    "                                label_name = 'num of commits in original data set')"
   ]
  },
  {
   "cell_type": "code",
   "execution_count": 153,
   "metadata": {},
   "outputs": [
    {
     "data": {
      "image/png": "[encoded data removed]",
      "text/plain": [
       "<Figure size 432x288 with 1 Axes>"
      ]
     },
     "metadata": {
      "needs_background": "light"
     },
     "output_type": "display_data"
    }
   ],
   "source": [
    "generate_distribution_histogram(df_result, \n",
    "                                'code_churn',\n",
    "                                title = 'Lines of code changed in executed data set',\n",
    "                                x_axis_label = 'Lines of code modified',\n",
    "                                y_axis_label = 'Frequency',\n",
    "                                label_name = 'Lines of code modified in executed data set')"
   ]
  },
  {
   "cell_type": "code",
   "execution_count": 154,
   "metadata": {},
   "outputs": [
    {
     "data": {
      "image/png": "[encoded data removed]",
      "text/plain": [
       "<Figure size 432x288 with 1 Axes>"
      ]
     },
     "metadata": {
      "needs_background": "light"
     },
     "output_type": "display_data"
    }
   ],
   "source": [
    "generate_distribution_histogram(df_original, \n",
    "                                'code_churn',\n",
    "                                title = 'Lines of code modified in original data set',\n",
    "                                x_axis_label = 'Lines of code modified',\n",
    "                                y_axis_label = 'Frequency',\n",
    "                                label_name = 'Lines of code modified in original data set')"
   ]
  },
  {
   "cell_type": "code",
   "execution_count": null,
   "metadata": {},
   "outputs": [],
   "source": []
  },
  {
   "cell_type": "code",
   "execution_count": null,
   "metadata": {},
   "outputs": [],
   "source": []
  }
 ],
 "metadata": {
  "kernelspec": {
   "display_name": "Python 3",
   "language": "python",
   "name": "python3"
  },
  "language_info": {
   "codemirror_mode": {
    "name": "ipython",
    "version": 3
   },
   "file_extension": ".py",
   "mimetype": "text/x-python",
   "name": "python",
   "nbconvert_exporter": "python",
   "pygments_lexer": "ipython3",
   "version": "3.7.6"
  }
 },
 "nbformat": 4,
 "nbformat_minor": 4
}
